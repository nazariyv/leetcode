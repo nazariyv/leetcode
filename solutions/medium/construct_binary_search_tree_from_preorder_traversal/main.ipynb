{
 "nbformat": 4,
 "nbformat_minor": 2,
 "metadata": {
  "language_info": {
   "name": "python",
   "codemirror_mode": {
    "name": "ipython",
    "version": 3
   },
   "version": "3.7.7-final"
  },
  "orig_nbformat": 2,
  "file_extension": ".py",
  "mimetype": "text/x-python",
  "name": "python",
  "npconvert_exporter": "python",
  "pygments_lexer": "ipython3",
  "version": 3,
  "kernelspec": {
   "name": "python37764bitmagicvenv6845ee8501104bc98e4d2035bbaacdee",
   "display_name": "Python 3.7.7 64-bit ('magic': venv)"
  }
 },
 "cells": [
  {
   "cell_type": "code",
   "execution_count": 7,
   "metadata": {},
   "outputs": [],
   "source": [
    "def get_first(d):\n",
    "    for k in d:\n",
    "        return k"
   ]
  },
  {
   "cell_type": "code",
   "execution_count": 2,
   "metadata": {},
   "outputs": [],
   "source": [
    "from sortedcontainers import SortedDict"
   ]
  },
  {
   "cell_type": "code",
   "execution_count": 4,
   "metadata": {},
   "outputs": [],
   "source": [
    "sd = SortedDict({10: [], 2: [], 11: []})"
   ]
  },
  {
   "cell_type": "code",
   "execution_count": 5,
   "metadata": {},
   "outputs": [
    {
     "output_type": "stream",
     "name": "stdout",
     "text": "2\n10\n11\n"
    }
   ],
   "source": [
    "for k in sd:\n",
    "    print(k)"
   ]
  },
  {
   "cell_type": "code",
   "execution_count": 8,
   "metadata": {},
   "outputs": [
    {
     "output_type": "execute_result",
     "data": {
      "text/plain": "2"
     },
     "metadata": {},
     "execution_count": 8
    }
   ],
   "source": [
    "get_first(sd)"
   ]
  },
  {
   "cell_type": "code",
   "execution_count": 10,
   "metadata": {},
   "outputs": [
    {
     "output_type": "stream",
     "name": "stdout",
     "text": "Sorted dict is a sorted mutable mapping.\n\n    Sorted dict keys are maintained in sorted order. The design of sorted dict\n    is simple: sorted dict inherits from dict to store items and maintains a\n    sorted list of keys.\n\n    Sorted dict keys must be hashable and comparable. The hash and total\n    ordering of keys must not change while they are stored in the sorted dict.\n\n    Mutable mapping methods:\n\n    * :func:`SortedDict.__getitem__` (inherited from dict)\n    * :func:`SortedDict.__setitem__`\n    * :func:`SortedDict.__delitem__`\n    * :func:`SortedDict.__iter__`\n    * :func:`SortedDict.__len__` (inherited from dict)\n\n    Methods for adding items:\n\n    * :func:`SortedDict.setdefault`\n    * :func:`SortedDict.update`\n\n    Methods for removing items:\n\n    * :func:`SortedDict.clear`\n    * :func:`SortedDict.pop`\n    * :func:`SortedDict.popitem`\n\n    Methods for looking up items:\n\n    * :func:`SortedDict.__contains__` (inherited from dict)\n    * :func:`SortedDict.get` (inherited from dict)\n    * :func:`SortedDict.peekitem`\n\n    Methods for views:\n\n    * :func:`SortedDict.keys`\n    * :func:`SortedDict.items`\n    * :func:`SortedDict.values`\n\n    Methods for miscellany:\n\n    * :func:`SortedDict.copy`\n    * :func:`SortedDict.fromkeys`\n    * :func:`SortedDict.__reversed__`\n    * :func:`SortedDict.__eq__` (inherited from dict)\n    * :func:`SortedDict.__ne__` (inherited from dict)\n    * :func:`SortedDict.__repr__`\n    * :func:`SortedDict._check`\n\n    Sorted list methods available (applies to keys):\n\n    * :func:`SortedList.bisect_left`\n    * :func:`SortedList.bisect_right`\n    * :func:`SortedList.count`\n    * :func:`SortedList.index`\n    * :func:`SortedList.irange`\n    * :func:`SortedList.islice`\n    * :func:`SortedList._reset`\n\n    Additional sorted list methods available, if key-function used:\n\n    * :func:`SortedKeyList.bisect_key_left`\n    * :func:`SortedKeyList.bisect_key_right`\n    * :func:`SortedKeyList.irange_key`\n\n    Sorted dicts may only be compared for equality and inequality.\n\n    \n"
    }
   ],
   "source": [
    "print(SortedDict.__doc__)"
   ]
  },
  {
   "cell_type": "code",
   "execution_count": 12,
   "metadata": {},
   "outputs": [],
   "source": [
    "# help(SortedDict)"
   ]
  },
  {
   "cell_type": "code",
   "execution_count": 13,
   "metadata": {},
   "outputs": [
    {
     "output_type": "execute_result",
     "data": {
      "text/plain": "(11, [])"
     },
     "metadata": {},
     "execution_count": 13
    }
   ],
   "source": [
    "sd.peekitem()"
   ]
  },
  {
   "cell_type": "code",
   "execution_count": 17,
   "metadata": {},
   "outputs": [
    {
     "output_type": "execute_result",
     "data": {
      "text/plain": "<itertools.chain at 0x106cfa2d0>"
     },
     "metadata": {},
     "execution_count": 17
    }
   ],
   "source": [
    "sd.__reversed__()"
   ]
  },
  {
   "cell_type": "code",
   "execution_count": 18,
   "metadata": {},
   "outputs": [
    {
     "output_type": "stream",
     "name": "stdout",
     "text": "11\n10\n2\n"
    }
   ],
   "source": [
    "for s in sd.__reversed__():\n",
    "    print(s)"
   ]
  },
  {
   "cell_type": "code",
   "execution_count": 21,
   "metadata": {},
   "outputs": [
    {
     "output_type": "execute_result",
     "data": {
      "text/plain": "False"
     },
     "metadata": {},
     "execution_count": 21
    }
   ],
   "source": [
    "not not SortedDict()"
   ]
  },
  {
   "cell_type": "code",
   "execution_count": 31,
   "metadata": {},
   "outputs": [],
   "source": [
    "from solutions.minions import Tree\n",
    "from typing import List"
   ]
  },
  {
   "cell_type": "code",
   "execution_count": 32,
   "metadata": {},
   "outputs": [],
   "source": [
    "def make_tree(happy_tree) -> Tree:\n",
    "    # \"{2: []}\" -> Tree(2)\n",
    "    # \"{2: [], 3: [], 10: []}\" -> Tree(2) -> Tree(2).right = Tree(3) -> Tree(2).right.right = Tree(10)\n",
    "    if not happy_tree: return Tree()\n",
    "\n",
    "    root = Tree(happy_tree.peekitem())\n",
    "    prev = root\n",
    "\n",
    "    for branch in happy_tree.__reversed__():\n",
    "        lefts = happy_tree[branch]\n",
    "        if lefts: prev.left = make_tree(lefts.peekitem())\n",
    "        t = Tree(branch)\n",
    "        prev.right = t\n",
    "        prev = t\n",
    "\n",
    "    return root"
   ]
  },
  {
   "cell_type": "code",
   "execution_count": 33,
   "metadata": {},
   "outputs": [],
   "source": [
    "def construct_branch(preorder: List[int]) -> List[List[int]]:\n",
    "    n = len(preorder)\n",
    "    if n == 0: return None\n",
    "    if n == 1: return [preorder[0], None]\n",
    "    curr, next = preorder[0], None\n",
    "    out = [curr, []]\n",
    "    all_out = [out]\n",
    "    curr_ix = 0\n",
    "    for i in range(1, n):\n",
    "        next = preorder[i]\n",
    "        if curr > next:\n",
    "            all_out[curr_ix][1].append(next)\n",
    "        else:\n",
    "            curr = next\n",
    "            curr_ix += 1\n",
    "            all_out.append([next, []])\n",
    "\n",
    "    for ix, item in enumerate(all_out):\n",
    "        all_out[ix][1] = construct_branch(item[1])\n",
    "\n",
    "    return all_out"
   ]
  },
  {
   "cell_type": "code",
   "execution_count": 35,
   "metadata": {},
   "outputs": [],
   "source": [
    "# out = construct_branch([8,5,4,3,10,11,9,20,15,13])\n",
    "out = construct_branch([8,10,11,9])"
   ]
  },
  {
   "cell_type": "code",
   "execution_count": 36,
   "metadata": {},
   "outputs": [
    {
     "output_type": "execute_result",
     "data": {
      "text/plain": "[[8, None], [10, None], [11, [9, None]]]"
     },
     "metadata": {},
     "execution_count": 36
    }
   ],
   "source": [
    "out"
   ]
  },
  {
   "cell_type": "code",
   "execution_count": 10,
   "metadata": {},
   "outputs": [],
   "source": [
    "out = construct_branch([1, 3, 2])"
   ]
  },
  {
   "cell_type": "code",
   "execution_count": 11,
   "metadata": {},
   "outputs": [
    {
     "output_type": "execute_result",
     "data": {
      "text/plain": "[[1, []], [3, [2, []]]]"
     },
     "metadata": {},
     "execution_count": 11
    }
   ],
   "source": [
    "out"
   ]
  },
  {
   "cell_type": "code",
   "execution_count": 12,
   "metadata": {},
   "outputs": [],
   "source": [
    "def make_tree(happy_tree) -> Tree:\n",
    "    if isinstance(happy_tree[0], int): return Tree(happy_tree[0])\n",
    "    branches = happy_tree[0][1]\n",
    "    root = Tree(happy_tree[0][0])\n",
    "    prev = root\n",
    "    for ix, branch in enumerate(happy_tree):\n",
    "        lefts = branch[1]\n",
    "        if lefts:\n",
    "            prev.left = make_tree(lefts)\n",
    "        if ix == 0: continue\n",
    "        t = Tree(branch[0])\n",
    "        prev.right = t\n",
    "        prev = t\n",
    "    return root"
   ]
  },
  {
   "cell_type": "code",
   "execution_count": 13,
   "metadata": {},
   "outputs": [],
   "source": [
    "t = make_tree(out)"
   ]
  },
  {
   "cell_type": "code",
   "execution_count": 14,
   "metadata": {},
   "outputs": [
    {
     "output_type": "stream",
     "name": "stdout",
     "text": "1\n2\nnull\nnull\n3\nnull\nnull\n"
    }
   ],
   "source": [
    "t.repr()"
   ]
  },
  {
   "cell_type": "code",
   "execution_count": 54,
   "metadata": {},
   "outputs": [],
   "source": [
    "from typing import Optional"
   ]
  },
  {
   "cell_type": "code",
   "execution_count": 106,
   "metadata": {},
   "outputs": [],
   "source": [
    "def insert_into_tree(val: int, tree: Tree, root: Optional[Tree] = None, side: Optional[str] = ''):\n",
    "    if tree is None and root is not None:\n",
    "        if side not in {'right', 'left'}: raise Exception('never')\n",
    "        setattr(root, side, Tree(val))\n",
    "        return\n",
    "    if val < tree.v: insert_into_tree(val, tree.left,  tree, 'left')\n",
    "    else:            insert_into_tree(val, tree.right, tree, 'right')\n",
    "def bst_from_preorder(preorder: List[int]) -> Tree:\n",
    "    root = Tree(preorder[0])\n",
    "    for i in range(1, len(preorder)):\n",
    "        insert_into_tree(preorder[i], root)\n",
    "    return root"
   ]
  },
  {
   "cell_type": "code",
   "execution_count": 112,
   "metadata": {},
   "outputs": [],
   "source": [
    "t = bst_from_preorder([8,5,4,3,10,11,9,20,15])"
   ]
  },
  {
   "cell_type": "code",
   "execution_count": 113,
   "metadata": {},
   "outputs": [
    {
     "output_type": "stream",
     "name": "stdout",
     "text": "8\n5\n4\n3\nnull\nnull\nnull\nnull\n10\n9\nnull\nnull\n11\nnull\n20\n15\nnull\nnull\nnull\n"
    }
   ],
   "source": [
    "t.repr()"
   ]
  },
  {
   "cell_type": "code",
   "execution_count": 109,
   "metadata": {},
   "outputs": [],
   "source": [
    "t = Tree(3)"
   ]
  },
  {
   "cell_type": "code",
   "execution_count": 91,
   "metadata": {},
   "outputs": [
    {
     "output_type": "execute_result",
     "data": {
      "text/plain": "4316108600"
     },
     "metadata": {},
     "execution_count": 91
    }
   ],
   "source": [
    "id(t.left)"
   ]
  },
  {
   "cell_type": "code",
   "execution_count": 92,
   "metadata": {},
   "outputs": [
    {
     "output_type": "execute_result",
     "data": {
      "text/plain": "4316108600"
     },
     "metadata": {},
     "execution_count": 92
    }
   ],
   "source": [
    "id(t.right)"
   ]
  },
  {
   "cell_type": "code",
   "execution_count": 93,
   "metadata": {},
   "outputs": [],
   "source": [
    "in_direc = t.left if True else t.right"
   ]
  },
  {
   "cell_type": "code",
   "execution_count": 94,
   "metadata": {},
   "outputs": [
    {
     "output_type": "execute_result",
     "data": {
      "text/plain": "4316108600"
     },
     "metadata": {},
     "execution_count": 94
    }
   ],
   "source": [
    "id(in_direc)"
   ]
  },
  {
   "cell_type": "code",
   "execution_count": null,
   "metadata": {},
   "outputs": [],
   "source": []
  }
 ]
}